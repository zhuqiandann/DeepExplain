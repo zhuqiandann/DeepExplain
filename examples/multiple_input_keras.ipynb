{
 "cells": [
  {
   "cell_type": "markdown",
   "metadata": {
    "collapsed": true
   },
   "source": [
    "## DeepExplain - Toy example of a model with multiple inputs\n",
    "### Keras with Functional API"
   ]
  },
  {
   "cell_type": "code",
   "execution_count": 3,
   "metadata": {},
   "outputs": [],
   "source": [
    "from __future__ import absolute_import\n",
    "from __future__ import division\n",
    "from __future__ import print_function\n",
    "\n",
    "import os\n",
    "import sys\n",
    "sys.path.insert(0, os.path.abspath('..'))\n",
    "\n",
    "import numpy as np\n",
    "from keras.models import  Model\n",
    "from keras.layers import Dense,  Activation, Input\n",
    "from keras.layers import   Concatenate\n",
    "from keras import backend as K\n",
    "\n",
    "# Import DeepExplain\n",
    "from deepexplain.tensorflow import DeepExplain"
   ]
  },
  {
   "cell_type": "code",
   "execution_count": 4,
   "metadata": {},
   "outputs": [
    {
     "name": "stdout",
     "output_type": "stream",
     "text": [
      "Output:  [[0.49969494]]\n",
      "Attributions:\n",
      " [array([[-0.14719483]], dtype=float32), array([[0.1468898]], dtype=float32)]\n"
     ]
    }
   ],
   "source": [
    "# Define two simple numerical inputs\n",
    "_x1 = np.array([[1]])\n",
    "_x2 = np.array([[2]])\n",
    "\n",
    "# Define model\n",
    "# Here we implement y = sigmoid([w1*x1|w2*x2] * w3)\n",
    "def init_model():\n",
    "    x1 = Input(shape=(1,))\n",
    "    x2 = Input(shape=(1,))\n",
    "\n",
    "    t1 = Dense(1)(x1)\n",
    "    t2 = Dense(1)(x2)\n",
    "    t3 = Concatenate()([t1, t2])\n",
    "    t4 = Dense(1)(t3)\n",
    "    y = Activation('sigmoid')(t4)\n",
    "    \n",
    "    model = Model(inputs=[x1, x2], outputs=y)\n",
    "    model.compile(optimizer='rmsprop', loss='mse')\n",
    "    return model\n",
    "\n",
    "\n",
    "model = init_model()\n",
    "# This is a toy example. The random weight initialization will do just fine.\n",
    "# model.fit(...)\n",
    "\n",
    "# Make sure the model works\n",
    "print (\"Output: \", model.predict(x=[_x1, _x2]))\n",
    "\n",
    "with DeepExplain(session=K.get_session()) as de:  # <-- init DeepExplain context\n",
    "    # Need to reconstruct the graph in DeepExplain context, using the same weights.\n",
    "    input_tensors = model.inputs\n",
    "    fModel = Model(inputs = input_tensors, outputs = model.outputs)\n",
    "    target_tensor = fModel(input_tensors)\n",
    "\n",
    "    attributions = de.explain('grad*input', target_tensor, input_tensors, [_x1, _x2])\n",
    "    print (\"Attributions:\\n\", attributions)"
   ]
  },
  {
   "cell_type": "code",
   "execution_count": 4,
   "outputs": [],
   "source": [],
   "metadata": {
    "collapsed": false,
    "pycharm": {
     "name": "#%%\n"
    }
   }
  },
  {
   "cell_type": "code",
   "execution_count": 4,
   "metadata": {
    "pycharm": {
     "name": "#%%\n"
    }
   },
   "outputs": [],
   "source": []
  },
  {
   "cell_type": "code",
   "execution_count": 4,
   "metadata": {},
   "outputs": [],
   "source": []
  }
 ],
 "metadata": {
  "kernelspec": {
   "display_name": "Python 3",
   "language": "python",
   "name": "python3"
  },
  "language_info": {
   "codemirror_mode": {
    "name": "ipython",
    "version": 3
   },
   "file_extension": ".py",
   "mimetype": "text/x-python",
   "name": "python",
   "nbconvert_exporter": "python",
   "pygments_lexer": "ipython3",
   "version": "3.7.9"
  }
 },
 "nbformat": 4,
 "nbformat_minor": 1
}